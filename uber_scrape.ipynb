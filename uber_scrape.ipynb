{
 "cells": [
  {
   "cell_type": "code",
   "execution_count": 1,
   "metadata": {},
   "outputs": [],
   "source": [
    "import requests\n",
    "import json\n",
    "import pandas as pd\n",
    "from pandas.core.frame import DataFrame\n",
    "import csv\n",
    "import time\n",
    "import datetime\n",
    "import matplotlib.pyplot as plt"
   ]
  },
  {
   "cell_type": "code",
   "execution_count": 2,
   "metadata": {},
   "outputs": [],
   "source": [
    "s = requests.Session()"
   ]
  },
  {
   "cell_type": "code",
   "execution_count": 3,
   "metadata": {},
   "outputs": [],
   "source": [
    "start_headers = {\n",
    "\"accept\": \"text/html,application/xhtml+xml,application/xml;q=0.9,image/webp,image/apng,*/*;q=0.8,application/signed-exchange;v=b3;q=0.9\",\n",
    "\"accept-encoding\": \"gzip, deflate, br\",\n",
    "\"accept-language\": \"en-US,en;q=0.9,zh-CN;q=0.8,zh;q=0.7\",\n",
    "\"dnt\": \"1\",\n",
    "\"sec-fetch-dest\": \"document\",\n",
    "\"sec-fetch-mode\": \"navigate\",\n",
    "\"sec-fetch-site\": \"none\",\n",
    "\"upgrade-insecure-requests\": \"1\",\n",
    "\"user-agent\": \"Mozilla/5.0 (Macintosh; Intel Mac OS X 10_14_6) AppleWebKit/537.36 (KHTML, like Gecko) Chrome/83.0.4103.61 Safari/537.36\",\n",
    "}"
   ]
  },
  {
   "cell_type": "code",
   "execution_count": 4,
   "metadata": {},
   "outputs": [],
   "source": [
    "resp = s.get(\n",
    "    \"https://www.uber.com/us/en/price-estimate/\",\n",
    "    headers=start_headers,\n",
    ")\n",
    "assert resp.status_code == 200\n"
   ]
  },
  {
   "cell_type": "code",
   "execution_count": 5,
   "metadata": {},
   "outputs": [],
   "source": [
    "url = 'https://www.uber.com/api/loadFEEstimates'"
   ]
  },
  {
   "cell_type": "code",
   "execution_count": 6,
   "metadata": {},
   "outputs": [],
   "source": [
    "# Grand central station, 89 E 42nd St, New York, NY\n",
    "# World Trade Center, New York, NY\n",
    "# JFK airport\n",
    "# Citi Field in Queens\n",
    "\n",
    "#{\"id\": \"ChIJ-b2RmVlZwokRpb1pwEQjss0\",\"latitude\":40.75285290000001,\"locale\": \"en\",\"longitude\": -73.97767550000002,\"provider\": \"google_places\"} \n",
    "#{\"id\":\"ChIJ-4MbiBlawokR5ixJ4E8Km5c\",\"provider\":\"google_places\", \"locale\":\"en\",\"latitude\":40.7118011,\"longitude\":-74.0131196 } \n",
    "#{\"id\": \"ChIJR0lA1VBmwokR8BGfSBOyT-w\",\"latitude\": 40.64131109999999,\"locale\": \"en\",\"longitude\": -73.77813909999999,\"provider\": \"google_places\"} \n",
    "#{\"id\": \"ChIJldFHseBfwokRO3aZ8NSVW_U\",\"latitude\": 40.7570877,\"locale\": \"en\",\"longitude\": -73.8458213,\"provider\": \"google_places\"} "
   ]
  },
  {
   "cell_type": "code",
   "execution_count": 7,
   "metadata": {},
   "outputs": [],
   "source": [
    "# need to change,\n",
    "# since you have static origin and destination, you just grab it from chrome Inspect\n",
    "payload1 = '''{\"origin\":{\"id\": \"ChIJ-b2RmVlZwokRpb1pwEQjss0\",\"latitude\":40.75285290000001,\"locale\": \"en\",\"longitude\": -73.97767550000002,\"provider\": \"google_places\"} ,\"destination\":{\"id\":\"ChIJ-4MbiBlawokR5ixJ4E8Km5c\",\"provider\":\"google_places\", \"locale\":\"en\",\"latitude\":40.7118011,\"longitude\":-74.0131196 } ,\"locale\":\"en\"} '''\n",
    "payload2 = '''{\"origin\":{\"id\": \"ChIJ-b2RmVlZwokRpb1pwEQjss0\",\"latitude\":40.75285290000001,\"locale\": \"en\",\"longitude\": -73.97767550000002,\"provider\": \"google_places\"} ,\"destination\":{\"id\": \"ChIJR0lA1VBmwokR8BGfSBOyT-w\",\"latitude\": 40.64131109999999,\"locale\": \"en\",\"longitude\": -73.77813909999999,\"provider\": \"google_places\"} ,\"locale\":\"en\"}'''\n",
    "payload3 = '''{\"origin\":{\"id\": \"ChIJ-b2RmVlZwokRpb1pwEQjss0\",\"latitude\":40.75285290000001,\"locale\": \"en\",\"longitude\": -73.97767550000002,\"provider\": \"google_places\"} ,\"destination\":{\"id\": \"ChIJldFHseBfwokRO3aZ8NSVW_U\",\"latitude\": 40.7570877,\"locale\": \"en\",\"longitude\": -73.8458213,\"provider\": \"google_places\"} ,\"locale\":\"en\"} '''\n"
   ]
  },
  {
   "cell_type": "code",
   "execution_count": 8,
   "metadata": {},
   "outputs": [],
   "source": [
    "extra_headers = {\n",
    "    \"content-length\": \"293\",\n",
    "    \"content-type\": \"application/json\",\n",
    "    \"x-csrf-token\": \"x\",\n",
    "    \"origin\": \"https://www.uber.com\",\n",
    "    \"referer\": \"https://www.uber.com/us/en/price-estimate/\",\n",
    "    \"sec-fetch-dest\": \"empty\",\n",
    "    \"sec-fetch-mode\": \"cors\",\n",
    "    \"sec-fetch-site\": \"same-origin\",\n",
    "}"
   ]
  },
  {
   "cell_type": "code",
   "execution_count": 9,
   "metadata": {},
   "outputs": [],
   "source": [
    "resp1 = s.post(url, data=payload1, headers={**s.headers, **extra_headers})\n",
    "assert resp1.status_code == 200\n",
    "resp2 = s.post(url, data=payload2, headers={**s.headers, **extra_headers})\n",
    "assert resp2.status_code == 200\n",
    "resp3 = s.post(url, data=payload3, headers={**s.headers, **extra_headers})\n",
    "assert resp3.status_code == 200"
   ]
  },
  {
   "cell_type": "code",
   "execution_count": 10,
   "metadata": {},
   "outputs": [],
   "source": [
    "dic1=(json.loads(resp1.content))\n",
    "dic2=(json.loads(resp2.content))\n",
    "dic3=(json.loads(resp3.content))\n",
    "list1 = dic1['data']['prices']\n",
    "list2 = dic2['data']['prices']\n",
    "list3 = dic3['data']['prices']\n",
    "option=['Pool - Unavailable','UberX','WAV','UberXL','Car Seat','Black','Black SUV']\n",
    "time_stamp = datetime.datetime.now().strftime('%Y.%m.%d-%H:%M')\n",
    "time = [time_stamp]*7"
   ]
  },
  {
   "cell_type": "code",
   "execution_count": 11,
   "metadata": {},
   "outputs": [],
   "source": [
    "def option_price(l):\n",
    "    op=[]\n",
    "    for i in range(7):\n",
    "        op.append(l[i]['fareString'])\n",
    "    return op"
   ]
  },
  {
   "cell_type": "code",
   "execution_count": 12,
   "metadata": {},
   "outputs": [],
   "source": [
    "WTC= option_price(list1)\n",
    "JFK= option_price(list2)\n",
    "CITI= option_price(list3)"
   ]
  },
  {
   "cell_type": "code",
   "execution_count": 13,
   "metadata": {},
   "outputs": [],
   "source": [
    "summ = {'Time':time, 'Options':option,'GCS-WTC':WTC,'GCS-JFK':JFK,'GCS-CITI':CITI} \n",
    "df1=pd.DataFrame(summ)"
   ]
  },
  {
   "cell_type": "code",
   "execution_count": null,
   "metadata": {},
   "outputs": [],
   "source": [
    "df"
   ]
  },
  {
   "cell_type": "code",
   "execution_count": 14,
   "metadata": {},
   "outputs": [],
   "source": [
    "df=pd.read_csv('/Users/zhaoyijie/Desktop/tasks/Uber.csv')\n",
    "df=df.append(df1)"
   ]
  },
  {
   "cell_type": "code",
   "execution_count": 15,
   "metadata": {},
   "outputs": [],
   "source": [
    "df.to_csv('/Users/zhaoyijie/Desktop/tasks/Uber.csv',index=False,header=True)"
   ]
  },
  {
   "cell_type": "markdown",
   "metadata": {},
   "source": [
    "### use crontab to realized update\n",
    "#### 0 8,12,18,23 * * * /Applications/anaconda3/bin/python3 /Users/zhaoyijie/Desktop/tasks/uber_scrape.py >> /Users/zhaoyijie/Desktop/tasks/cron.log 2>&1"
   ]
  },
  {
   "cell_type": "code",
   "execution_count": null,
   "metadata": {},
   "outputs": [],
   "source": []
  },
  {
   "cell_type": "code",
   "execution_count": null,
   "metadata": {},
   "outputs": [],
   "source": []
  },
  {
   "cell_type": "code",
   "execution_count": null,
   "metadata": {},
   "outputs": [],
   "source": []
  }
 ],
 "metadata": {
  "kernelspec": {
   "display_name": "Python 3",
   "language": "python",
   "name": "python3"
  },
  "language_info": {
   "codemirror_mode": {
    "name": "ipython",
    "version": 3
   },
   "file_extension": ".py",
   "mimetype": "text/x-python",
   "name": "python",
   "nbconvert_exporter": "python",
   "pygments_lexer": "ipython3",
   "version": "3.7.4"
  }
 },
 "nbformat": 4,
 "nbformat_minor": 4
}
