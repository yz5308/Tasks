{
 "cells": [
  {
   "cell_type": "code",
   "execution_count": 1,
   "metadata": {},
   "outputs": [],
   "source": [
    "import requests\n",
    "import json\n",
    "import pandas as pd\n",
    "from pandas.core.frame import DataFrame\n",
    "import csv\n",
    "import time\n",
    "import datetime\n",
    "import matplotlib.pyplot as plt"
   ]
  },
  {
   "cell_type": "code",
   "execution_count": 2,
   "metadata": {},
   "outputs": [],
   "source": [
    "s = requests.Session()"
   ]
  },
  {
   "cell_type": "code",
   "execution_count": 3,
   "metadata": {},
   "outputs": [],
   "source": [
    "start_headers = {\n",
    "\"accept\": \"text/html,application/xhtml+xml,application/xml;q=0.9,image/webp,image/apng,*/*;q=0.8,application/signed-exchange;v=b3;q=0.9\",\n",
    "\"accept-encoding\": \"gzip, deflate, br\",\n",
    "\"accept-language\": \"en-US,en;q=0.9,zh-CN;q=0.8,zh;q=0.7\",\n",
    "\"dnt\": \"1\",\n",
    "\"sec-fetch-dest\": \"document\",\n",
    "\"sec-fetch-mode\": \"navigate\",\n",
    "\"sec-fetch-site\": \"none\",\n",
    "\"upgrade-insecure-requests\": \"1\",\n",
    "\"user-agent\": \"Mozilla/5.0 (Macintosh; Intel Mac OS X 10_14_6) AppleWebKit/537.36 (KHTML, like Gecko) Chrome/83.0.4103.61 Safari/537.36\",\n",
    "}"
   ]
  },
  {
   "cell_type": "code",
   "execution_count": 4,
   "metadata": {},
   "outputs": [],
   "source": [
    "resp = s.get(\n",
    "    \"https://www.uber.com/us/en/price-estimate/\",\n",
    "    headers=start_headers,\n",
    ")\n",
    "assert resp.status_code == 200\n"
   ]
  },
  {
   "cell_type": "code",
   "execution_count": 5,
   "metadata": {},
   "outputs": [],
   "source": [
    "url = 'https://www.uber.com/api/loadFEEstimates'"
   ]
  },
  {
   "cell_type": "code",
   "execution_count": 6,
   "metadata": {},
   "outputs": [],
   "source": [
    "# Grand central station, 89 E 42nd St, New York, NY\n",
    "# World Trade Center, New York, NY\n",
    "# JFK airport\n",
    "# Citi Field in Queens\n",
    "\n",
    "#{\"id\": \"ChIJ-b2RmVlZwokRpb1pwEQjss0\",\"latitude\":40.75285290000001,\"locale\": \"en\",\"longitude\": -73.97767550000002,\"provider\": \"google_places\"} \n",
    "#{\"id\":\"ChIJ-4MbiBlawokR5ixJ4E8Km5c\",\"provider\":\"google_places\", \"locale\":\"en\",\"latitude\":40.7118011,\"longitude\":-74.0131196 } \n",
    "#{\"id\": \"ChIJR0lA1VBmwokR8BGfSBOyT-w\",\"latitude\": 40.64131109999999,\"locale\": \"en\",\"longitude\": -73.77813909999999,\"provider\": \"google_places\"} \n",
    "#{\"id\": \"ChIJldFHseBfwokRO3aZ8NSVW_U\",\"latitude\": 40.7570877,\"locale\": \"en\",\"longitude\": -73.8458213,\"provider\": \"google_places\"} "
   ]
  },
  {
   "cell_type": "code",
   "execution_count": 7,
   "metadata": {},
   "outputs": [],
   "source": [
    "# need to change,\n",
    "# since you have static origin and destination, you just grab it from chrome Inspect\n",
    "payload1 = '''{\"origin\":{\"id\": \"ChIJ-b2RmVlZwokRpb1pwEQjss0\",\"latitude\":40.75285290000001,\"locale\": \"en\",\"longitude\": -73.97767550000002,\"provider\": \"google_places\"} ,\"destination\":{\"id\":\"ChIJ-4MbiBlawokR5ixJ4E8Km5c\",\"provider\":\"google_places\", \"locale\":\"en\",\"latitude\":40.7118011,\"longitude\":-74.0131196 } ,\"locale\":\"en\"} '''\n",
    "payload2 = '''{\"origin\":{\"id\": \"ChIJ-b2RmVlZwokRpb1pwEQjss0\",\"latitude\":40.75285290000001,\"locale\": \"en\",\"longitude\": -73.97767550000002,\"provider\": \"google_places\"} ,\"destination\":{\"id\": \"ChIJR0lA1VBmwokR8BGfSBOyT-w\",\"latitude\": 40.64131109999999,\"locale\": \"en\",\"longitude\": -73.77813909999999,\"provider\": \"google_places\"} ,\"locale\":\"en\"}'''\n",
    "payload3 = '''{\"origin\":{\"id\": \"ChIJ-b2RmVlZwokRpb1pwEQjss0\",\"latitude\":40.75285290000001,\"locale\": \"en\",\"longitude\": -73.97767550000002,\"provider\": \"google_places\"} ,\"destination\":{\"id\": \"ChIJldFHseBfwokRO3aZ8NSVW_U\",\"latitude\": 40.7570877,\"locale\": \"en\",\"longitude\": -73.8458213,\"provider\": \"google_places\"} ,\"locale\":\"en\"} '''\n"
   ]
  },
  {
   "cell_type": "code",
   "execution_count": 8,
   "metadata": {},
   "outputs": [],
   "source": [
    "extra_headers = {\n",
    "    \"content-length\": \"293\",\n",
    "    \"content-type\": \"application/json\",\n",
    "    \"x-csrf-token\": \"x\",\n",
    "    \"origin\": \"https://www.uber.com\",\n",
    "    \"referer\": \"https://www.uber.com/us/en/price-estimate/\",\n",
    "    \"sec-fetch-dest\": \"empty\",\n",
    "    \"sec-fetch-mode\": \"cors\",\n",
    "    \"sec-fetch-site\": \"same-origin\",\n",
    "}"
   ]
  },
  {
   "cell_type": "code",
   "execution_count": 9,
   "metadata": {},
   "outputs": [],
   "source": [
    "resp1 = s.post(url, data=payload1, headers={**s.headers, **extra_headers})\n",
    "assert resp1.status_code == 200\n",
    "resp2 = s.post(url, data=payload2, headers={**s.headers, **extra_headers})\n",
    "assert resp2.status_code == 200\n",
    "resp3 = s.post(url, data=payload3, headers={**s.headers, **extra_headers})\n",
    "assert resp3.status_code == 200"
   ]
  },
  {
   "cell_type": "code",
   "execution_count": 10,
   "metadata": {},
   "outputs": [],
   "source": [
    "dic1=(json.loads(resp1.content))\n",
    "dic2=(json.loads(resp2.content))\n",
    "dic3=(json.loads(resp3.content))\n",
    "list1 = dic1['data']['prices']\n",
    "list2 = dic2['data']['prices']\n",
    "list3 = dic3['data']['prices']\n",
    "option=['Pool - Unavailable','UberX','WAV','UberXL','Car Seat','Black','Black SUV']\n",
    "time_stamp = datetime.datetime.now().strftime('%Y.%m.%d-%H:%M')\n",
    "time = [time_stamp]*7"
   ]
  },
  {
   "cell_type": "code",
   "execution_count": 11,
   "metadata": {},
   "outputs": [],
   "source": [
    "def option_price(l):\n",
    "    op=[]\n",
    "    for i in range(7):\n",
    "        op.append(l[i]['fareString'])\n",
    "    return op"
   ]
  },
  {
   "cell_type": "code",
   "execution_count": 12,
   "metadata": {},
   "outputs": [],
   "source": [
    "WTC= option_price(list1)\n",
    "JFK= option_price(list2)\n",
    "CITI= option_price(list3)"
   ]
  },
  {
   "cell_type": "code",
   "execution_count": 13,
   "metadata": {},
   "outputs": [],
   "source": [
    "summ = {'Time':time, 'Options':option,'GCS-WTC':WTC,'GCS-JFK':JFK,'GCS-CITI':CITI} \n",
    "df1=pd.DataFrame(summ)"
   ]
  },
  {
   "cell_type": "code",
   "execution_count": 14,
   "metadata": {},
   "outputs": [],
   "source": [
    "df=pd.read_csv('/Users/zhaoyijie/Desktop/tasks/Uber.csv')\n",
    "df=df.append(df1)"
   ]
  },
  {
   "cell_type": "code",
   "execution_count": 15,
   "metadata": {},
   "outputs": [],
   "source": [
    "df.to_csv('/Users/zhaoyijie/Desktop/tasks/Uber.csv',index=False,header=True)"
   ]
  },
  {
   "cell_type": "code",
   "execution_count": 16,
   "metadata": {},
   "outputs": [],
   "source": [
    "# use crontab to realized update\n",
    "# 0 8,12,18,23 * * * /Applications/anaconda3/bin/python3 /Users/zhaoyijie/Desktop/tasks/uber_scrape.py >> /Users/zhaoyijie/Desktop/tasks/cron.log 2>&1"
   ]
  },
  {
   "cell_type": "code",
   "execution_count": 17,
   "metadata": {},
   "outputs": [
    {
     "data": {
      "text/html": [
       "<div>\n",
       "<style scoped>\n",
       "    .dataframe tbody tr th:only-of-type {\n",
       "        vertical-align: middle;\n",
       "    }\n",
       "\n",
       "    .dataframe tbody tr th {\n",
       "        vertical-align: top;\n",
       "    }\n",
       "\n",
       "    .dataframe thead th {\n",
       "        text-align: right;\n",
       "    }\n",
       "</style>\n",
       "<table border=\"1\" class=\"dataframe\">\n",
       "  <thead>\n",
       "    <tr style=\"text-align: right;\">\n",
       "      <th></th>\n",
       "      <th>Time</th>\n",
       "      <th>Options</th>\n",
       "      <th>GCS-WTC</th>\n",
       "      <th>GCS-JFK</th>\n",
       "      <th>GCS-CITI</th>\n",
       "    </tr>\n",
       "  </thead>\n",
       "  <tbody>\n",
       "    <tr>\n",
       "      <td>0</td>\n",
       "      <td>2020.06.11-23:15</td>\n",
       "      <td>Pool - Unavailable</td>\n",
       "      <td>$21.74</td>\n",
       "      <td>$46.79</td>\n",
       "      <td>$38.56</td>\n",
       "    </tr>\n",
       "    <tr>\n",
       "      <td>1</td>\n",
       "      <td>2020.06.11-23:15</td>\n",
       "      <td>UberX</td>\n",
       "      <td>$25.30</td>\n",
       "      <td>$49.01</td>\n",
       "      <td>$42.85</td>\n",
       "    </tr>\n",
       "    <tr>\n",
       "      <td>2</td>\n",
       "      <td>2020.06.11-23:15</td>\n",
       "      <td>WAV</td>\n",
       "      <td>$25.30</td>\n",
       "      <td>$49.01</td>\n",
       "      <td>$42.85</td>\n",
       "    </tr>\n",
       "    <tr>\n",
       "      <td>3</td>\n",
       "      <td>2020.06.11-23:15</td>\n",
       "      <td>UberXL</td>\n",
       "      <td>$28.18</td>\n",
       "      <td>$60.14</td>\n",
       "      <td>$49.69</td>\n",
       "    </tr>\n",
       "    <tr>\n",
       "      <td>4</td>\n",
       "      <td>2020.06.11-23:15</td>\n",
       "      <td>Car Seat</td>\n",
       "      <td>$36.43</td>\n",
       "      <td>$70.06</td>\n",
       "      <td>$53.98</td>\n",
       "    </tr>\n",
       "    <tr>\n",
       "      <td>5</td>\n",
       "      <td>2020.06.11-23:15</td>\n",
       "      <td>Black</td>\n",
       "      <td>$43.09</td>\n",
       "      <td>$95.28</td>\n",
       "      <td>$68.99</td>\n",
       "    </tr>\n",
       "    <tr>\n",
       "      <td>6</td>\n",
       "      <td>2020.06.11-23:15</td>\n",
       "      <td>Black SUV</td>\n",
       "      <td>$63.53</td>\n",
       "      <td>$136.39</td>\n",
       "      <td>$98.36</td>\n",
       "    </tr>\n",
       "  </tbody>\n",
       "</table>\n",
       "</div>"
      ],
      "text/plain": [
       "               Time             Options GCS-WTC  GCS-JFK GCS-CITI\n",
       "0  2020.06.11-23:15  Pool - Unavailable  $21.74   $46.79   $38.56\n",
       "1  2020.06.11-23:15               UberX  $25.30   $49.01   $42.85\n",
       "2  2020.06.11-23:15                 WAV  $25.30   $49.01   $42.85\n",
       "3  2020.06.11-23:15              UberXL  $28.18   $60.14   $49.69\n",
       "4  2020.06.11-23:15            Car Seat  $36.43   $70.06   $53.98\n",
       "5  2020.06.11-23:15               Black  $43.09   $95.28   $68.99\n",
       "6  2020.06.11-23:15           Black SUV  $63.53  $136.39   $98.36"
      ]
     },
     "execution_count": 17,
     "metadata": {},
     "output_type": "execute_result"
    }
   ],
   "source": [
    "df1"
   ]
  },
  {
   "cell_type": "code",
   "execution_count": null,
   "metadata": {},
   "outputs": [],
   "source": []
  },
  {
   "cell_type": "code",
   "execution_count": null,
   "metadata": {},
   "outputs": [],
   "source": []
  }
 ],
 "metadata": {
  "kernelspec": {
   "display_name": "Python 3",
   "language": "python",
   "name": "python3"
  },
  "language_info": {
   "codemirror_mode": {
    "name": "ipython",
    "version": 3
   },
   "file_extension": ".py",
   "mimetype": "text/x-python",
   "name": "python",
   "nbconvert_exporter": "python",
   "pygments_lexer": "ipython3",
   "version": "3.7.4"
  }
 },
 "nbformat": 4,
 "nbformat_minor": 4
}
