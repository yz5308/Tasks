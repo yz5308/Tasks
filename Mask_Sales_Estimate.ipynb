{
 "cells": [
  {
   "cell_type": "markdown",
   "metadata": {},
   "source": [
    "### Estimate daily sales by using net increase of reviews for product within 24 hours"
   ]
  },
  {
   "cell_type": "code",
   "execution_count": 1,
   "metadata": {},
   "outputs": [],
   "source": [
    "import csv\n",
    "import numpy as np\n",
    "import pandas as pd"
   ]
  },
  {
   "cell_type": "markdown",
   "metadata": {},
   "source": [
    "scraped data are product title, product id, product url, product price, product rating, numbers of reviews for products, number of favorited by, store name, store sales, store url and number of reviews for store and brief reviews.\n",
    "\n",
    "scraped data contains around 12,000 mask products, since Etsy only shows 250 pages. However, Etsy has 1,075,766 results when search for mask and 831,913 results when search for face masks, so scraped data is just a sample.\n"
   ]
  },
  {
   "cell_type": "code",
   "execution_count": 2,
   "metadata": {},
   "outputs": [],
   "source": [
    "mask_0 = pd.read_csv(\"Jun10_20.csv\",thousands=',')\n",
    "mask_1 = pd.read_csv(\"Jun11_13.csv\",thousands=',')"
   ]
  },
  {
   "cell_type": "code",
   "execution_count": 3,
   "metadata": {},
   "outputs": [],
   "source": [
    "mask = pd.merge(mask_0[['product_id',\"Num_reviews_for_product\"]], mask_1,  on ='product_id',how ='inner')"
   ]
  },
  {
   "cell_type": "code",
   "execution_count": 4,
   "metadata": {},
   "outputs": [],
   "source": [
    "# calculate daily change of Number of reviews for product\n",
    "mask['net_reviews_for_product'] = mask['Num_reviews_for_product_y']- mask['Num_reviews_for_product_x']"
   ]
  },
  {
   "cell_type": "code",
   "execution_count": 5,
   "metadata": {},
   "outputs": [],
   "source": [
    "## adjust the format of store_sales to float\n",
    "#mask['store_sales'] = mask['store_sales'].str.replace(' sales','').str.replace(',','')\n",
    "mask[['store_sales']]= mask[['store_sales']].apply(pd.to_numeric, errors='coerce')"
   ]
  },
  {
   "cell_type": "code",
   "execution_count": 6,
   "metadata": {},
   "outputs": [
    {
     "name": "stdout",
     "output_type": "stream",
     "text": [
      "On average, 1 review increase means  9.256623523460313  sales incerase.\n"
     ]
    }
   ],
   "source": [
    "## Estimate sales for maginal review and replace N/A by the mean\n",
    "mask['estimated product sales for 1 review']=mask['store_sales']/mask['Num_reviews_for_store']\n",
    "mask['estimated product sales for 1 review'].fillna(mask['estimated product sales for 1 review'].mean(),inplace=True)\n",
    "print('On average, 1 review increase means  {}  sales incerase.'.format(mask['estimated product sales for 1 review'].mean()))\n"
   ]
  },
  {
   "cell_type": "markdown",
   "metadata": {},
   "source": [
    "### Daily Sales and Revenue"
   ]
  },
  {
   "cell_type": "code",
   "execution_count": 7,
   "metadata": {},
   "outputs": [],
   "source": [
    "daily_product_sales = mask['estimated product sales for 1 review']*mask['net_reviews_for_product']\n",
    "daily_product_sales_revenue = daily_product_sales*mask['price']"
   ]
  },
  {
   "cell_type": "code",
   "execution_count": 8,
   "metadata": {},
   "outputs": [
    {
     "name": "stdout",
     "output_type": "stream",
     "text": [
      "Masks's daily sales is 40785.0, and daily sales revenue is $398134.24.\n"
     ]
    }
   ],
   "source": [
    "print(\"Masks's daily sales is {}, and daily sales revenue is ${}.\"\n",
    "      .format(daily_product_sales.sum().round(),daily_product_sales_revenue.sum().round(2)))"
   ]
  },
  {
   "cell_type": "markdown",
   "metadata": {},
   "source": [
    "#### The sample is just a proporation of total results, but it is most relevant results on Etsy.  Thus, the sample is representative.To calculate the total sales, we should use :\n",
    "                            sample daily sales * No. of population / No. of sample"
   ]
  },
  {
   "cell_type": "code",
   "execution_count": 9,
   "metadata": {},
   "outputs": [
    {
     "data": {
      "text/plain": [
       "0.8212501523090046"
      ]
     },
     "execution_count": 9,
     "metadata": {},
     "output_type": "execute_result"
    }
   ],
   "source": [
    "replication_rate = len(mask)*2/(len(mask_0)+len(mask_1))\n",
    "replication_rate"
   ]
  },
  {
   "cell_type": "markdown",
   "metadata": {},
   "source": [
    "#### However, since the replication rate of each search is around 80%. For consumers who want face masks, their search results will also fall into the 250 pages with : \n",
    "                                     4 * 16 * 250 = 16000  products. \n",
    " #### Thus, a margin can be applied to adjust for the calaulation."
   ]
  },
  {
   "cell_type": "code",
   "execution_count": 10,
   "metadata": {},
   "outputs": [
    {
     "data": {
      "text/plain": [
       "1.5825914935707222"
      ]
     },
     "execution_count": 10,
     "metadata": {},
     "output_type": "execute_result"
    }
   ],
   "source": [
    "margin = 16000/len(mask)\n",
    "margin"
   ]
  },
  {
   "cell_type": "code",
   "execution_count": 11,
   "metadata": {},
   "outputs": [],
   "source": [
    "Daily_total_sales = daily_product_sales.sum()/margin\n",
    "Daily_total_sales_revenue = daily_product_sales_revenue.sum()/margin"
   ]
  },
  {
   "cell_type": "code",
   "execution_count": 12,
   "metadata": {},
   "outputs": [
    {
     "name": "stdout",
     "output_type": "stream",
     "text": [
      "Masks's daily total sales is 25771.0, and daily total sales revenue is $251571.07\n"
     ]
    }
   ],
   "source": [
    "print(\"Masks's daily total sales is {}, and daily total sales revenue is ${}\"\n",
    "      .format(Daily_total_sales.round().round(),Daily_total_sales_revenue.round(2)))"
   ]
  },
  {
   "cell_type": "code",
   "execution_count": null,
   "metadata": {},
   "outputs": [],
   "source": []
  }
 ],
 "metadata": {
  "kernelspec": {
   "display_name": "Python 3",
   "language": "python",
   "name": "python3"
  },
  "language_info": {
   "codemirror_mode": {
    "name": "ipython",
    "version": 3
   },
   "file_extension": ".py",
   "mimetype": "text/x-python",
   "name": "python",
   "nbconvert_exporter": "python",
   "pygments_lexer": "ipython3",
   "version": "3.7.4"
  }
 },
 "nbformat": 4,
 "nbformat_minor": 2
}
